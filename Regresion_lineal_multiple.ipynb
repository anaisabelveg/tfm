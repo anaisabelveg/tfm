{
  "nbformat": 4,
  "nbformat_minor": 0,
  "metadata": {
    "colab": {
      "provenance": [],
      "include_colab_link": true
    },
    "kernelspec": {
      "name": "python3",
      "display_name": "Python 3"
    },
    "language_info": {
      "name": "python"
    }
  },
  "cells": [
    {
      "cell_type": "markdown",
      "metadata": {
        "id": "view-in-github",
        "colab_type": "text"
      },
      "source": [
        "<a href=\"https://colab.research.google.com/github/anaisabelveg/tfm/blob/main/Regresion_lineal_multiple.ipynb\" target=\"_parent\"><img src=\"https://colab.research.google.com/assets/colab-badge.svg\" alt=\"Open In Colab\"/></a>"
      ]
    },
    {
      "cell_type": "markdown",
      "source": [
        "Importamos las librerias necesarias y configuramos matplotlib"
      ],
      "metadata": {
        "id": "oA0JPxovmO1I"
      }
    },
    {
      "cell_type": "code",
      "execution_count": null,
      "metadata": {
        "id": "DSlPsWwJXFnl"
      },
      "outputs": [],
      "source": [
        "import pandas as pd\n",
        "import numpy as np\n",
        "import matplotlib.pyplot as plt\n",
        "from matplotlib import style\n",
        "import seaborn as sns\n",
        "from scipy.stats import pearsonr\n",
        "from sklearn.model_selection import train_test_split\n",
        "from sklearn.metrics import r2_score\n",
        "from sklearn.metrics import mean_squared_error\n",
        "import statsmodels.api as sm\n",
        "import statsmodels.formula.api as smf\n",
        "from statsmodels.stats.anova import anova_lm\n",
        "from scipy import stats\n",
        "plt.rcParams['image.cmap'] = \"bwr\"\n",
        "plt.rcParams['savefig.bbox'] = \"tight\"\n",
        "style.use('ggplot') or plt.style.use('ggplot')\n",
        "import warnings\n",
        "warnings.filterwarnings('ignore')"
      ]
    },
    {
      "cell_type": "markdown",
      "source": [
        "Selecciono el dataset"
      ],
      "metadata": {
        "id": "oui85KypmaAB"
      }
    },
    {
      "cell_type": "code",
      "source": [
        "from google.colab import files\n",
        "uploaded = files.upload()"
      ],
      "metadata": {
        "colab": {
          "base_uri": "https://localhost:8080/",
          "height": 74
        },
        "id": "9Bjd4GVAXOmd",
        "outputId": "e9345eb9-ee2a-40c8-95a9-b4258778a6ac"
      },
      "execution_count": null,
      "outputs": [
        {
          "output_type": "display_data",
          "data": {
            "text/plain": [
              "<IPython.core.display.HTML object>"
            ],
            "text/html": [
              "\n",
              "     <input type=\"file\" id=\"files-10848f1e-800a-4f21-8e77-5621d2dffdc9\" name=\"files[]\" multiple disabled\n",
              "        style=\"border:none\" />\n",
              "     <output id=\"result-10848f1e-800a-4f21-8e77-5621d2dffdc9\">\n",
              "      Upload widget is only available when the cell has been executed in the\n",
              "      current browser session. Please rerun this cell to enable.\n",
              "      </output>\n",
              "      <script>// Copyright 2017 Google LLC\n",
              "//\n",
              "// Licensed under the Apache License, Version 2.0 (the \"License\");\n",
              "// you may not use this file except in compliance with the License.\n",
              "// You may obtain a copy of the License at\n",
              "//\n",
              "//      http://www.apache.org/licenses/LICENSE-2.0\n",
              "//\n",
              "// Unless required by applicable law or agreed to in writing, software\n",
              "// distributed under the License is distributed on an \"AS IS\" BASIS,\n",
              "// WITHOUT WARRANTIES OR CONDITIONS OF ANY KIND, either express or implied.\n",
              "// See the License for the specific language governing permissions and\n",
              "// limitations under the License.\n",
              "\n",
              "/**\n",
              " * @fileoverview Helpers for google.colab Python module.\n",
              " */\n",
              "(function(scope) {\n",
              "function span(text, styleAttributes = {}) {\n",
              "  const element = document.createElement('span');\n",
              "  element.textContent = text;\n",
              "  for (const key of Object.keys(styleAttributes)) {\n",
              "    element.style[key] = styleAttributes[key];\n",
              "  }\n",
              "  return element;\n",
              "}\n",
              "\n",
              "// Max number of bytes which will be uploaded at a time.\n",
              "const MAX_PAYLOAD_SIZE = 100 * 1024;\n",
              "\n",
              "function _uploadFiles(inputId, outputId) {\n",
              "  const steps = uploadFilesStep(inputId, outputId);\n",
              "  const outputElement = document.getElementById(outputId);\n",
              "  // Cache steps on the outputElement to make it available for the next call\n",
              "  // to uploadFilesContinue from Python.\n",
              "  outputElement.steps = steps;\n",
              "\n",
              "  return _uploadFilesContinue(outputId);\n",
              "}\n",
              "\n",
              "// This is roughly an async generator (not supported in the browser yet),\n",
              "// where there are multiple asynchronous steps and the Python side is going\n",
              "// to poll for completion of each step.\n",
              "// This uses a Promise to block the python side on completion of each step,\n",
              "// then passes the result of the previous step as the input to the next step.\n",
              "function _uploadFilesContinue(outputId) {\n",
              "  const outputElement = document.getElementById(outputId);\n",
              "  const steps = outputElement.steps;\n",
              "\n",
              "  const next = steps.next(outputElement.lastPromiseValue);\n",
              "  return Promise.resolve(next.value.promise).then((value) => {\n",
              "    // Cache the last promise value to make it available to the next\n",
              "    // step of the generator.\n",
              "    outputElement.lastPromiseValue = value;\n",
              "    return next.value.response;\n",
              "  });\n",
              "}\n",
              "\n",
              "/**\n",
              " * Generator function which is called between each async step of the upload\n",
              " * process.\n",
              " * @param {string} inputId Element ID of the input file picker element.\n",
              " * @param {string} outputId Element ID of the output display.\n",
              " * @return {!Iterable<!Object>} Iterable of next steps.\n",
              " */\n",
              "function* uploadFilesStep(inputId, outputId) {\n",
              "  const inputElement = document.getElementById(inputId);\n",
              "  inputElement.disabled = false;\n",
              "\n",
              "  const outputElement = document.getElementById(outputId);\n",
              "  outputElement.innerHTML = '';\n",
              "\n",
              "  const pickedPromise = new Promise((resolve) => {\n",
              "    inputElement.addEventListener('change', (e) => {\n",
              "      resolve(e.target.files);\n",
              "    });\n",
              "  });\n",
              "\n",
              "  const cancel = document.createElement('button');\n",
              "  inputElement.parentElement.appendChild(cancel);\n",
              "  cancel.textContent = 'Cancel upload';\n",
              "  const cancelPromise = new Promise((resolve) => {\n",
              "    cancel.onclick = () => {\n",
              "      resolve(null);\n",
              "    };\n",
              "  });\n",
              "\n",
              "  // Wait for the user to pick the files.\n",
              "  const files = yield {\n",
              "    promise: Promise.race([pickedPromise, cancelPromise]),\n",
              "    response: {\n",
              "      action: 'starting',\n",
              "    }\n",
              "  };\n",
              "\n",
              "  cancel.remove();\n",
              "\n",
              "  // Disable the input element since further picks are not allowed.\n",
              "  inputElement.disabled = true;\n",
              "\n",
              "  if (!files) {\n",
              "    return {\n",
              "      response: {\n",
              "        action: 'complete',\n",
              "      }\n",
              "    };\n",
              "  }\n",
              "\n",
              "  for (const file of files) {\n",
              "    const li = document.createElement('li');\n",
              "    li.append(span(file.name, {fontWeight: 'bold'}));\n",
              "    li.append(span(\n",
              "        `(${file.type || 'n/a'}) - ${file.size} bytes, ` +\n",
              "        `last modified: ${\n",
              "            file.lastModifiedDate ? file.lastModifiedDate.toLocaleDateString() :\n",
              "                                    'n/a'} - `));\n",
              "    const percent = span('0% done');\n",
              "    li.appendChild(percent);\n",
              "\n",
              "    outputElement.appendChild(li);\n",
              "\n",
              "    const fileDataPromise = new Promise((resolve) => {\n",
              "      const reader = new FileReader();\n",
              "      reader.onload = (e) => {\n",
              "        resolve(e.target.result);\n",
              "      };\n",
              "      reader.readAsArrayBuffer(file);\n",
              "    });\n",
              "    // Wait for the data to be ready.\n",
              "    let fileData = yield {\n",
              "      promise: fileDataPromise,\n",
              "      response: {\n",
              "        action: 'continue',\n",
              "      }\n",
              "    };\n",
              "\n",
              "    // Use a chunked sending to avoid message size limits. See b/62115660.\n",
              "    let position = 0;\n",
              "    do {\n",
              "      const length = Math.min(fileData.byteLength - position, MAX_PAYLOAD_SIZE);\n",
              "      const chunk = new Uint8Array(fileData, position, length);\n",
              "      position += length;\n",
              "\n",
              "      const base64 = btoa(String.fromCharCode.apply(null, chunk));\n",
              "      yield {\n",
              "        response: {\n",
              "          action: 'append',\n",
              "          file: file.name,\n",
              "          data: base64,\n",
              "        },\n",
              "      };\n",
              "\n",
              "      let percentDone = fileData.byteLength === 0 ?\n",
              "          100 :\n",
              "          Math.round((position / fileData.byteLength) * 100);\n",
              "      percent.textContent = `${percentDone}% done`;\n",
              "\n",
              "    } while (position < fileData.byteLength);\n",
              "  }\n",
              "\n",
              "  // All done.\n",
              "  yield {\n",
              "    response: {\n",
              "      action: 'complete',\n",
              "    }\n",
              "  };\n",
              "}\n",
              "\n",
              "scope.google = scope.google || {};\n",
              "scope.google.colab = scope.google.colab || {};\n",
              "scope.google.colab._files = {\n",
              "  _uploadFiles,\n",
              "  _uploadFilesContinue,\n",
              "};\n",
              "})(self);\n",
              "</script> "
            ]
          },
          "metadata": {}
        },
        {
          "output_type": "stream",
          "name": "stdout",
          "text": [
            "Saving transit_limpio.csv to transit_limpio.csv\n"
          ]
        }
      ]
    },
    {
      "cell_type": "markdown",
      "source": [
        "Creo el dataframe a partir del dataset subido"
      ],
      "metadata": {
        "id": "Xe_tN0OPmedU"
      }
    },
    {
      "cell_type": "code",
      "source": [
        "dfTransit = pd.read_csv(\"transit_limpio.csv\")\n",
        "print(dfTransit.head(10))"
      ],
      "metadata": {
        "colab": {
          "base_uri": "https://localhost:8080/"
        },
        "id": "eIhJ2vUsXOSN",
        "outputId": "7c0fc923-b236-4b40-e8d5-47d3f995c74a"
      },
      "execution_count": null,
      "outputs": [
        {
          "output_type": "stream",
          "name": "stdout",
          "text": [
            "                 region  price    year  cylinders  fuel  odometer  \\\n",
            "0            birmingham  31900  2019.0          6     1   29497.0   \n",
            "1            birmingham  32900  2019.0          6     1    6735.0   \n",
            "2            birmingham  34500  2019.0          6     1    7646.0   \n",
            "3            birmingham  32700  2019.0          6     1   13646.0   \n",
            "4            birmingham  32900  2019.0          6     1    6735.0   \n",
            "5            birmingham  34800  2019.0          6     1   31020.0   \n",
            "6            birmingham  32800  2018.0          6     1   43479.0   \n",
            "7            birmingham  38300  2020.0          6     1    7540.0   \n",
            "8            birmingham  34800  2019.0          6     1   31020.0   \n",
            "9  huntsville / decatur  14882  2015.0          6     1  151780.0   \n",
            "\n",
            "   title_status  transmission  drive        lat       long  \n",
            "0             1             1      1  36.464100 -86.658280  \n",
            "1             1             1      1  36.464100 -86.658280  \n",
            "2             1             1      1  36.464100 -86.658280  \n",
            "3             1             1      1  36.464100 -86.658280  \n",
            "4             1             1      1  36.464100 -86.658280  \n",
            "5             1             1      1  36.464100 -86.658280  \n",
            "6             1             1      1  36.464100 -86.658280  \n",
            "7             1             1      1  36.464100 -86.658280  \n",
            "8             1             1      1  36.464100 -86.658280  \n",
            "9             2             1      1  36.107596 -86.743824  \n"
          ]
        }
      ]
    },
    {
      "cell_type": "markdown",
      "source": [
        "Correlación entre las variables"
      ],
      "metadata": {
        "id": "2g7h9a3Qmlrb"
      }
    },
    {
      "cell_type": "code",
      "source": [
        "def tidy_corr_matrix(corr_mat):\n",
        "    '''\n",
        "    Función para convertir una matriz de correlación de pandas en formato tidy\n",
        "    '''\n",
        "    corr_mat = corr_mat.stack().reset_index()\n",
        "    corr_mat.columns = ['variable_1','variable_2','r']\n",
        "    corr_mat = corr_mat.loc[corr_mat['variable_1'] != corr_mat['variable_2'], :]\n",
        "    corr_mat['abs_r'] = np.abs(corr_mat['r'])\n",
        "    corr_mat = corr_mat.sort_values('abs_r', ascending=False)\n",
        "    \n",
        "    return(corr_mat)\n",
        "\n",
        "\n",
        "\n",
        "corr_matrix = dfTransit.select_dtypes(include=['float64', 'int']).corr(method='pearson')\n",
        "tidy_corr_matrix(corr_matrix).head(10)"
      ],
      "metadata": {
        "colab": {
          "base_uri": "https://localhost:8080/",
          "height": 363
        },
        "id": "MJEwGLFXafHo",
        "outputId": "dfd1ac69-d473-4457-f864-27d4ba8b8b41"
      },
      "execution_count": null,
      "outputs": [
        {
          "output_type": "execute_result",
          "data": {
            "text/plain": [
              "   variable_1 variable_2         r     abs_r\n",
              "41   odometer       year -0.715429  0.715429\n",
              "14       year   odometer -0.715429  0.715429\n",
              "1       price       year  0.676811  0.676811\n",
              "10       year      price  0.676811  0.676811\n",
              "4       price   odometer -0.671098  0.671098\n",
              "40   odometer      price -0.671098  0.671098\n",
              "72      drive  cylinders -0.666335  0.666335\n",
              "27  cylinders      drive -0.666335  0.666335\n",
              "12       year  cylinders  0.334502  0.334502\n",
              "21  cylinders       year  0.334502  0.334502"
            ],
            "text/html": [
              "\n",
              "  <div id=\"df-8b1ae274-21ee-4805-a530-3718e9453188\">\n",
              "    <div class=\"colab-df-container\">\n",
              "      <div>\n",
              "<style scoped>\n",
              "    .dataframe tbody tr th:only-of-type {\n",
              "        vertical-align: middle;\n",
              "    }\n",
              "\n",
              "    .dataframe tbody tr th {\n",
              "        vertical-align: top;\n",
              "    }\n",
              "\n",
              "    .dataframe thead th {\n",
              "        text-align: right;\n",
              "    }\n",
              "</style>\n",
              "<table border=\"1\" class=\"dataframe\">\n",
              "  <thead>\n",
              "    <tr style=\"text-align: right;\">\n",
              "      <th></th>\n",
              "      <th>variable_1</th>\n",
              "      <th>variable_2</th>\n",
              "      <th>r</th>\n",
              "      <th>abs_r</th>\n",
              "    </tr>\n",
              "  </thead>\n",
              "  <tbody>\n",
              "    <tr>\n",
              "      <th>41</th>\n",
              "      <td>odometer</td>\n",
              "      <td>year</td>\n",
              "      <td>-0.715429</td>\n",
              "      <td>0.715429</td>\n",
              "    </tr>\n",
              "    <tr>\n",
              "      <th>14</th>\n",
              "      <td>year</td>\n",
              "      <td>odometer</td>\n",
              "      <td>-0.715429</td>\n",
              "      <td>0.715429</td>\n",
              "    </tr>\n",
              "    <tr>\n",
              "      <th>1</th>\n",
              "      <td>price</td>\n",
              "      <td>year</td>\n",
              "      <td>0.676811</td>\n",
              "      <td>0.676811</td>\n",
              "    </tr>\n",
              "    <tr>\n",
              "      <th>10</th>\n",
              "      <td>year</td>\n",
              "      <td>price</td>\n",
              "      <td>0.676811</td>\n",
              "      <td>0.676811</td>\n",
              "    </tr>\n",
              "    <tr>\n",
              "      <th>4</th>\n",
              "      <td>price</td>\n",
              "      <td>odometer</td>\n",
              "      <td>-0.671098</td>\n",
              "      <td>0.671098</td>\n",
              "    </tr>\n",
              "    <tr>\n",
              "      <th>40</th>\n",
              "      <td>odometer</td>\n",
              "      <td>price</td>\n",
              "      <td>-0.671098</td>\n",
              "      <td>0.671098</td>\n",
              "    </tr>\n",
              "    <tr>\n",
              "      <th>72</th>\n",
              "      <td>drive</td>\n",
              "      <td>cylinders</td>\n",
              "      <td>-0.666335</td>\n",
              "      <td>0.666335</td>\n",
              "    </tr>\n",
              "    <tr>\n",
              "      <th>27</th>\n",
              "      <td>cylinders</td>\n",
              "      <td>drive</td>\n",
              "      <td>-0.666335</td>\n",
              "      <td>0.666335</td>\n",
              "    </tr>\n",
              "    <tr>\n",
              "      <th>12</th>\n",
              "      <td>year</td>\n",
              "      <td>cylinders</td>\n",
              "      <td>0.334502</td>\n",
              "      <td>0.334502</td>\n",
              "    </tr>\n",
              "    <tr>\n",
              "      <th>21</th>\n",
              "      <td>cylinders</td>\n",
              "      <td>year</td>\n",
              "      <td>0.334502</td>\n",
              "      <td>0.334502</td>\n",
              "    </tr>\n",
              "  </tbody>\n",
              "</table>\n",
              "</div>\n",
              "      <button class=\"colab-df-convert\" onclick=\"convertToInteractive('df-8b1ae274-21ee-4805-a530-3718e9453188')\"\n",
              "              title=\"Convert this dataframe to an interactive table.\"\n",
              "              style=\"display:none;\">\n",
              "        \n",
              "  <svg xmlns=\"http://www.w3.org/2000/svg\" height=\"24px\"viewBox=\"0 0 24 24\"\n",
              "       width=\"24px\">\n",
              "    <path d=\"M0 0h24v24H0V0z\" fill=\"none\"/>\n",
              "    <path d=\"M18.56 5.44l.94 2.06.94-2.06 2.06-.94-2.06-.94-.94-2.06-.94 2.06-2.06.94zm-11 1L8.5 8.5l.94-2.06 2.06-.94-2.06-.94L8.5 2.5l-.94 2.06-2.06.94zm10 10l.94 2.06.94-2.06 2.06-.94-2.06-.94-.94-2.06-.94 2.06-2.06.94z\"/><path d=\"M17.41 7.96l-1.37-1.37c-.4-.4-.92-.59-1.43-.59-.52 0-1.04.2-1.43.59L10.3 9.45l-7.72 7.72c-.78.78-.78 2.05 0 2.83L4 21.41c.39.39.9.59 1.41.59.51 0 1.02-.2 1.41-.59l7.78-7.78 2.81-2.81c.8-.78.8-2.07 0-2.86zM5.41 20L4 18.59l7.72-7.72 1.47 1.35L5.41 20z\"/>\n",
              "  </svg>\n",
              "      </button>\n",
              "      \n",
              "  <style>\n",
              "    .colab-df-container {\n",
              "      display:flex;\n",
              "      flex-wrap:wrap;\n",
              "      gap: 12px;\n",
              "    }\n",
              "\n",
              "    .colab-df-convert {\n",
              "      background-color: #E8F0FE;\n",
              "      border: none;\n",
              "      border-radius: 50%;\n",
              "      cursor: pointer;\n",
              "      display: none;\n",
              "      fill: #1967D2;\n",
              "      height: 32px;\n",
              "      padding: 0 0 0 0;\n",
              "      width: 32px;\n",
              "    }\n",
              "\n",
              "    .colab-df-convert:hover {\n",
              "      background-color: #E2EBFA;\n",
              "      box-shadow: 0px 1px 2px rgba(60, 64, 67, 0.3), 0px 1px 3px 1px rgba(60, 64, 67, 0.15);\n",
              "      fill: #174EA6;\n",
              "    }\n",
              "\n",
              "    [theme=dark] .colab-df-convert {\n",
              "      background-color: #3B4455;\n",
              "      fill: #D2E3FC;\n",
              "    }\n",
              "\n",
              "    [theme=dark] .colab-df-convert:hover {\n",
              "      background-color: #434B5C;\n",
              "      box-shadow: 0px 1px 3px 1px rgba(0, 0, 0, 0.15);\n",
              "      filter: drop-shadow(0px 1px 2px rgba(0, 0, 0, 0.3));\n",
              "      fill: #FFFFFF;\n",
              "    }\n",
              "  </style>\n",
              "\n",
              "      <script>\n",
              "        const buttonEl =\n",
              "          document.querySelector('#df-8b1ae274-21ee-4805-a530-3718e9453188 button.colab-df-convert');\n",
              "        buttonEl.style.display =\n",
              "          google.colab.kernel.accessAllowed ? 'block' : 'none';\n",
              "\n",
              "        async function convertToInteractive(key) {\n",
              "          const element = document.querySelector('#df-8b1ae274-21ee-4805-a530-3718e9453188');\n",
              "          const dataTable =\n",
              "            await google.colab.kernel.invokeFunction('convertToInteractive',\n",
              "                                                     [key], {});\n",
              "          if (!dataTable) return;\n",
              "\n",
              "          const docLinkHtml = 'Like what you see? Visit the ' +\n",
              "            '<a target=\"_blank\" href=https://colab.research.google.com/notebooks/data_table.ipynb>data table notebook</a>'\n",
              "            + ' to learn more about interactive tables.';\n",
              "          element.innerHTML = '';\n",
              "          dataTable['output_type'] = 'display_data';\n",
              "          await google.colab.output.renderOutput(dataTable, element);\n",
              "          const docLink = document.createElement('div');\n",
              "          docLink.innerHTML = docLinkHtml;\n",
              "          element.appendChild(docLink);\n",
              "        }\n",
              "      </script>\n",
              "    </div>\n",
              "  </div>\n",
              "  "
            ]
          },
          "metadata": {},
          "execution_count": 4
        }
      ]
    },
    {
      "cell_type": "markdown",
      "source": [
        "Matriz de correlaciones"
      ],
      "metadata": {
        "id": "1TcplvHFmxic"
      }
    },
    {
      "cell_type": "code",
      "source": [
        "fig, ax = plt.subplots(nrows=1, ncols=1, figsize=(4, 4))\n",
        "\n",
        "sns.heatmap(\n",
        "    corr_matrix,\n",
        "    annot     = True,\n",
        "    cbar      = False,\n",
        "    annot_kws = {\"size\": 8},\n",
        "    vmin      = -1,\n",
        "    vmax      = 1,\n",
        "    center    = 0,\n",
        "    cmap      = sns.diverging_palette(20, 220, n=200),\n",
        "    square    = True,\n",
        "    ax        = ax\n",
        ")\n",
        "\n",
        "ax.set_xticklabels(\n",
        "    ax.get_xticklabels(),\n",
        "    rotation = 45,\n",
        "    horizontalalignment = 'right',\n",
        ")\n",
        "\n",
        "ax.tick_params(labelsize = 10)"
      ],
      "metadata": {
        "colab": {
          "base_uri": "https://localhost:8080/",
          "height": 308
        },
        "id": "21LF7fIkauRk",
        "outputId": "f8473055-623d-4f1c-dcf7-f144438b83c0"
      },
      "execution_count": null,
      "outputs": [
        {
          "output_type": "display_data",
          "data": {
            "text/plain": [
              "<Figure size 288x288 with 1 Axes>"
            ],
            "image/png": "[encoded data removed]"
          },
          "metadata": {}
        }
      ]
    },
    {
      "cell_type": "markdown",
      "source": [
        "Divido el dataframe con un 80% de entrenamiento y el resto 20% para el test.\n"
      ],
      "metadata": {
        "id": "Cu46RcsFm-Aj"
      }
    },
    {
      "cell_type": "code",
      "source": [
        "X = dfTransit[['year', 'odometer', 'cylinders','title_status','drive']]\n",
        "y = dfTransit['price']\n",
        "\n",
        "X_train, X_test, y_train, y_test = train_test_split(\n",
        "                                        X,\n",
        "                                        y.values.reshape(-1,1),\n",
        "                                        train_size   = 0.8,\n",
        "                                        random_state = 1234,\n",
        "                                        shuffle      = True\n",
        "                                    )"
      ],
      "metadata": {
        "id": "5QRYkdPua7zb"
      },
      "execution_count": null,
      "outputs": []
    },
    {
      "cell_type": "markdown",
      "source": [
        "Creación del modelo utilizando scikitlearn"
      ],
      "metadata": {
        "id": "yffxDHKanChY"
      }
    },
    {
      "cell_type": "code",
      "source": [
        "# A la matriz de predictores se le tiene que añadir una columna de 1s para el intercept del modelo\n",
        "X_train = sm.add_constant(X_train, prepend=True)\n",
        "modelo = sm.OLS(endog=y_train, exog=X_train,)\n",
        "modelo = modelo.fit()\n",
        "print(modelo.summary())"
      ],
      "metadata": {
        "colab": {
          "base_uri": "https://localhost:8080/"
        },
        "id": "_hOMb4rEbpfS",
        "outputId": "0efd9a22-bf0b-49d0-e97e-3c43f65a7329"
      },
      "execution_count": null,
      "outputs": [
        {
          "output_type": "stream",
          "name": "stdout",
          "text": [
            "                            OLS Regression Results                            \n",
            "==============================================================================\n",
            "Dep. Variable:                      y   R-squared:                       0.503\n",
            "Model:                            OLS   Adj. R-squared:                  0.494\n",
            "Method:                 Least Squares   F-statistic:                     56.81\n",
            "Date:                Mon, 17 Oct 2022   Prob (F-statistic):           1.08e-40\n",
            "Time:                        20:32:32   Log-Likelihood:                -2918.1\n",
            "No. Observations:                 287   AIC:                             5848.\n",
            "Df Residuals:                     281   BIC:                             5870.\n",
            "Df Model:                           5                                         \n",
            "Covariance Type:            nonrobust                                         \n",
            "================================================================================\n",
            "                   coef    std err          t      P>|t|      [0.025      0.975]\n",
            "--------------------------------------------------------------------------------\n",
            "const        -3.086e+06   6.02e+05     -5.130      0.000   -4.27e+06    -1.9e+06\n",
            "year          1534.7559    298.305      5.145      0.000     947.560    2121.952\n",
            "odometer        -0.0760      0.012     -6.344      0.000      -0.100      -0.052\n",
            "cylinders     3772.5436   1266.219      2.979      0.003    1280.064    6265.023\n",
            "title_status -3002.5477   1097.328     -2.736      0.007   -5162.574    -842.521\n",
            "drive         2977.8539   2116.335      1.407      0.161   -1188.028    7143.736\n",
            "==============================================================================\n",
            "Omnibus:                      208.235   Durbin-Watson:                   2.050\n",
            "Prob(Omnibus):                  0.000   Jarque-Bera (JB):             9680.510\n",
            "Skew:                           2.316   Prob(JB):                         0.00\n",
            "Kurtosis:                      31.072   Cond. No.                     1.19e+08\n",
            "==============================================================================\n",
            "\n",
            "Notes:\n",
            "[1] Standard Errors assume that the covariance matrix of the errors is correctly specified.\n",
            "[2] The condition number is large, 1.19e+08. This might indicate that there are\n",
            "strong multicollinearity or other numerical problems.\n"
          ]
        }
      ]
    },
    {
      "cell_type": "markdown",
      "source": [
        "Intervalos de confianza para los coeficientes del modelo"
      ],
      "metadata": {
        "id": "3ld4A9vnndNY"
      }
    },
    {
      "cell_type": "code",
      "source": [
        "intervalos_ci = modelo.conf_int(alpha=0.05)\n",
        "intervalos_ci.columns = ['2.5%', '97.5%']\n",
        "intervalos_ci"
      ],
      "metadata": {
        "colab": {
          "base_uri": "https://localhost:8080/",
          "height": 237
        },
        "id": "rA7zQJj-ca0t",
        "outputId": "e883662e-cf3b-4580-bab5-aae0df1cc67b"
      },
      "execution_count": null,
      "outputs": [
        {
          "output_type": "execute_result",
          "data": {
            "text/plain": [
              "                      2.5%         97.5%\n",
              "const        -4.269857e+06 -1.901731e+06\n",
              "year          9.475597e+02  2.121952e+03\n",
              "odometer     -9.959355e-02 -5.242393e-02\n",
              "cylinders     1.280064e+03  6.265023e+03\n",
              "title_status -5.162574e+03 -8.425212e+02\n",
              "drive        -1.188028e+03  7.143736e+03"
            ],
            "text/html": [
              "\n",
              "  <div id=\"df-6cdf7c95-2e77-40dd-bb54-36d26f1843d3\">\n",
              "    <div class=\"colab-df-container\">\n",
              "      <div>\n",
              "<style scoped>\n",
              "    .dataframe tbody tr th:only-of-type {\n",
              "        vertical-align: middle;\n",
              "    }\n",
              "\n",
              "    .dataframe tbody tr th {\n",
              "        vertical-align: top;\n",
              "    }\n",
              "\n",
              "    .dataframe thead th {\n",
              "        text-align: right;\n",
              "    }\n",
              "</style>\n",
              "<table border=\"1\" class=\"dataframe\">\n",
              "  <thead>\n",
              "    <tr style=\"text-align: right;\">\n",
              "      <th></th>\n",
              "      <th>2.5%</th>\n",
              "      <th>97.5%</th>\n",
              "    </tr>\n",
              "  </thead>\n",
              "  <tbody>\n",
              "    <tr>\n",
              "      <th>const</th>\n",
              "      <td>-4.269857e+06</td>\n",
              "      <td>-1.901731e+06</td>\n",
              "    </tr>\n",
              "    <tr>\n",
              "      <th>year</th>\n",
              "      <td>9.475597e+02</td>\n",
              "      <td>2.121952e+03</td>\n",
              "    </tr>\n",
              "    <tr>\n",
              "      <th>odometer</th>\n",
              "      <td>-9.959355e-02</td>\n",
              "      <td>-5.242393e-02</td>\n",
              "    </tr>\n",
              "    <tr>\n",
              "      <th>cylinders</th>\n",
              "      <td>1.280064e+03</td>\n",
              "      <td>6.265023e+03</td>\n",
              "    </tr>\n",
              "    <tr>\n",
              "      <th>title_status</th>\n",
              "      <td>-5.162574e+03</td>\n",
              "      <td>-8.425212e+02</td>\n",
              "    </tr>\n",
              "    <tr>\n",
              "      <th>drive</th>\n",
              "      <td>-1.188028e+03</td>\n",
              "      <td>7.143736e+03</td>\n",
              "    </tr>\n",
              "  </tbody>\n",
              "</table>\n",
              "</div>\n",
              "      <button class=\"colab-df-convert\" onclick=\"convertToInteractive('df-6cdf7c95-2e77-40dd-bb54-36d26f1843d3')\"\n",
              "              title=\"Convert this dataframe to an interactive table.\"\n",
              "              style=\"display:none;\">\n",
              "        \n",
              "  <svg xmlns=\"http://www.w3.org/2000/svg\" height=\"24px\"viewBox=\"0 0 24 24\"\n",
              "       width=\"24px\">\n",
              "    <path d=\"M0 0h24v24H0V0z\" fill=\"none\"/>\n",
              "    <path d=\"M18.56 5.44l.94 2.06.94-2.06 2.06-.94-2.06-.94-.94-2.06-.94 2.06-2.06.94zm-11 1L8.5 8.5l.94-2.06 2.06-.94-2.06-.94L8.5 2.5l-.94 2.06-2.06.94zm10 10l.94 2.06.94-2.06 2.06-.94-2.06-.94-.94-2.06-.94 2.06-2.06.94z\"/><path d=\"M17.41 7.96l-1.37-1.37c-.4-.4-.92-.59-1.43-.59-.52 0-1.04.2-1.43.59L10.3 9.45l-7.72 7.72c-.78.78-.78 2.05 0 2.83L4 21.41c.39.39.9.59 1.41.59.51 0 1.02-.2 1.41-.59l7.78-7.78 2.81-2.81c.8-.78.8-2.07 0-2.86zM5.41 20L4 18.59l7.72-7.72 1.47 1.35L5.41 20z\"/>\n",
              "  </svg>\n",
              "      </button>\n",
              "      \n",
              "  <style>\n",
              "    .colab-df-container {\n",
              "      display:flex;\n",
              "      flex-wrap:wrap;\n",
              "      gap: 12px;\n",
              "    }\n",
              "\n",
              "    .colab-df-convert {\n",
              "      background-color: #E8F0FE;\n",
              "      border: none;\n",
              "      border-radius: 50%;\n",
              "      cursor: pointer;\n",
              "      display: none;\n",
              "      fill: #1967D2;\n",
              "      height: 32px;\n",
              "      padding: 0 0 0 0;\n",
              "      width: 32px;\n",
              "    }\n",
              "\n",
              "    .colab-df-convert:hover {\n",
              "      background-color: #E2EBFA;\n",
              "      box-shadow: 0px 1px 2px rgba(60, 64, 67, 0.3), 0px 1px 3px 1px rgba(60, 64, 67, 0.15);\n",
              "      fill: #174EA6;\n",
              "    }\n",
              "\n",
              "    [theme=dark] .colab-df-convert {\n",
              "      background-color: #3B4455;\n",
              "      fill: #D2E3FC;\n",
              "    }\n",
              "\n",
              "    [theme=dark] .colab-df-convert:hover {\n",
              "      background-color: #434B5C;\n",
              "      box-shadow: 0px 1px 3px 1px rgba(0, 0, 0, 0.15);\n",
              "      filter: drop-shadow(0px 1px 2px rgba(0, 0, 0, 0.3));\n",
              "      fill: #FFFFFF;\n",
              "    }\n",
              "  </style>\n",
              "\n",
              "      <script>\n",
              "        const buttonEl =\n",
              "          document.querySelector('#df-6cdf7c95-2e77-40dd-bb54-36d26f1843d3 button.colab-df-convert');\n",
              "        buttonEl.style.display =\n",
              "          google.colab.kernel.accessAllowed ? 'block' : 'none';\n",
              "\n",
              "        async function convertToInteractive(key) {\n",
              "          const element = document.querySelector('#df-6cdf7c95-2e77-40dd-bb54-36d26f1843d3');\n",
              "          const dataTable =\n",
              "            await google.colab.kernel.invokeFunction('convertToInteractive',\n",
              "                                                     [key], {});\n",
              "          if (!dataTable) return;\n",
              "\n",
              "          const docLinkHtml = 'Like what you see? Visit the ' +\n",
              "            '<a target=\"_blank\" href=https://colab.research.google.com/notebooks/data_table.ipynb>data table notebook</a>'\n",
              "            + ' to learn more about interactive tables.';\n",
              "          element.innerHTML = '';\n",
              "          dataTable['output_type'] = 'display_data';\n",
              "          await google.colab.output.renderOutput(dataTable, element);\n",
              "          const docLink = document.createElement('div');\n",
              "          docLink.innerHTML = docLinkHtml;\n",
              "          element.appendChild(docLink);\n",
              "        }\n",
              "      </script>\n",
              "    </div>\n",
              "  </div>\n",
              "  "
            ]
          },
          "metadata": {},
          "execution_count": 8
        }
      ]
    },
    {
      "cell_type": "markdown",
      "source": [
        "errores (residuos) de las predicciones de entrenamiento"
      ],
      "metadata": {
        "id": "VP3TrPIXnhv9"
      }
    },
    {
      "cell_type": "code",
      "source": [
        "y_train = y_train.flatten()\n",
        "prediccion_train = modelo.predict(exog = X_train)\n",
        "residuos_train   = prediccion_train - y_train"
      ],
      "metadata": {
        "id": "g2fhYd8GchgY"
      },
      "execution_count": null,
      "outputs": []
    },
    {
      "cell_type": "markdown",
      "source": [
        "Gráficos"
      ],
      "metadata": {
        "id": "Qf075HoenkSH"
      }
    },
    {
      "cell_type": "code",
      "source": [
        "fig, axes = plt.subplots(nrows=3, ncols=2, figsize=(9, 8))\n",
        "\n",
        "axes[0, 0].scatter(y_train, prediccion_train, edgecolors=(0, 0, 0), alpha = 0.4)\n",
        "axes[0, 0].plot([y_train.min(), y_train.max()], [y_train.min(), y_train.max()],\n",
        "                'k--', color = 'black', lw=2)\n",
        "axes[0, 0].set_title('Valor predicho vs valor real', fontsize = 10, fontweight = \"bold\")\n",
        "axes[0, 0].set_xlabel('Real')\n",
        "axes[0, 0].set_ylabel('Predicción')\n",
        "axes[0, 0].tick_params(labelsize = 7)\n",
        "\n",
        "axes[0, 1].scatter(list(range(len(y_train))), residuos_train,\n",
        "                   edgecolors=(0, 0, 0), alpha = 0.4)\n",
        "axes[0, 1].axhline(y = 0, linestyle = '--', color = 'black', lw=2)\n",
        "axes[0, 1].set_title('Residuos del modelo', fontsize = 10, fontweight = \"bold\")\n",
        "axes[0, 1].set_xlabel('id')\n",
        "axes[0, 1].set_ylabel('Residuo')\n",
        "axes[0, 1].tick_params(labelsize = 7)\n",
        "\n",
        "sns.histplot(\n",
        "    data    = residuos_train,\n",
        "    stat    = \"density\",\n",
        "    kde     = True,\n",
        "    line_kws= {'linewidth': 1},\n",
        "    color   = \"firebrick\",\n",
        "    alpha   = 0.3,\n",
        "    ax      = axes[1, 0]\n",
        ")\n",
        "\n",
        "axes[1, 0].set_title('Distribución residuos del modelo', fontsize = 10,\n",
        "                     fontweight = \"bold\")\n",
        "axes[1, 0].set_xlabel(\"Residuo\")\n",
        "axes[1, 0].tick_params(labelsize = 7)\n",
        "\n",
        "\n",
        "sm.qqplot(\n",
        "    residuos_train,\n",
        "    fit   = True,\n",
        "    line  = 'q',\n",
        "    ax    = axes[1, 1], \n",
        "    color = 'firebrick',\n",
        "    alpha = 0.4,\n",
        "    lw    = 2\n",
        ")\n",
        "axes[1, 1].set_title('Q-Q residuos del modelo', fontsize = 10, fontweight = \"bold\")\n",
        "axes[1, 1].tick_params(labelsize = 7)\n",
        "\n",
        "axes[2, 0].scatter(prediccion_train, residuos_train,\n",
        "                   edgecolors=(0, 0, 0), alpha = 0.4)\n",
        "axes[2, 0].axhline(y = 0, linestyle = '--', color = 'black', lw=2)\n",
        "axes[2, 0].set_title('Residuos del modelo vs predicción', fontsize = 10, fontweight = \"bold\")\n",
        "axes[2, 0].set_xlabel('Predicción')\n",
        "axes[2, 0].set_ylabel('Residuo')\n",
        "axes[2, 0].tick_params(labelsize = 7)\n",
        "\n",
        "# Se eliminan los axes vacíos\n",
        "fig.delaxes(axes[2,1])\n",
        "\n",
        "fig.tight_layout()\n",
        "plt.subplots_adjust(top=0.9)\n",
        "fig.suptitle('Diagnóstico residuos', fontsize = 12, fontweight = \"bold\");"
      ],
      "metadata": {
        "colab": {
          "base_uri": "https://localhost:8080/",
          "height": 585
        },
        "id": "CFfmyHXUcpn4",
        "outputId": "a8966e6c-6480-44f4-f187-9009f380f868"
      },
      "execution_count": null,
      "outputs": [
        {
          "output_type": "display_data",
          "data": {
            "text/plain": [
              "<Figure size 648x576 with 5 Axes>"
            ],
            "image/png": "[encoded data removed]"
          },
          "metadata": {}
        }
      ]
    },
    {
      "cell_type": "markdown",
      "source": [
        "Test de Normalidad de los residuos Shapiro-Wilk"
      ],
      "metadata": {
        "id": "Hts9l7ulnqrm"
      }
    },
    {
      "cell_type": "code",
      "source": [
        "shapiro_test = stats.shapiro(residuos_train)\n",
        "shapiro_test"
      ],
      "metadata": {
        "colab": {
          "base_uri": "https://localhost:8080/"
        },
        "id": "vGLYel9FcwxG",
        "outputId": "1fd22fba-41ae-420c-8c8d-1fc86877a6f2"
      },
      "execution_count": null,
      "outputs": [
        {
          "output_type": "execute_result",
          "data": {
            "text/plain": [
              "ShapiroResult(statistic=0.6558408737182617, pvalue=1.0510318850952491e-23)"
            ]
          },
          "metadata": {},
          "execution_count": 24
        }
      ]
    },
    {
      "cell_type": "markdown",
      "source": [
        " Predicciones con intervalo de confianza al 95%"
      ],
      "metadata": {
        "id": "Nd5p_WNFnyRV"
      }
    },
    {
      "cell_type": "code",
      "source": [
        "predicciones = modelo.get_prediction(exog = X_train).summary_frame(alpha=0.05)\n",
        "predicciones.head(4)"
      ],
      "metadata": {
        "colab": {
          "base_uri": "https://localhost:8080/",
          "height": 175
        },
        "id": "WlBL7LlHc5KA",
        "outputId": "8337d00a-e608-48dc-dd45-ad1f5ec091f5"
      },
      "execution_count": null,
      "outputs": [
        {
          "output_type": "execute_result",
          "data": {
            "text/plain": [
              "             mean     mean_se  mean_ci_lower  mean_ci_upper  obs_ci_lower  \\\n",
              "273  34907.142189  572.022509   33781.149005   36033.135373  22321.525556   \n",
              "301  34976.386154  577.917019   33838.789968   36113.982341  22389.726134   \n",
              "134  33208.042738  485.326904   32252.704831   34163.380645  20636.544979   \n",
              "252  33657.115078  693.298743   32292.396649   35021.833506  21047.898536   \n",
              "\n",
              "     obs_ci_upper  \n",
              "273  47492.758823  \n",
              "301  47563.046175  \n",
              "134  45779.540497  \n",
              "252  46266.331619  "
            ],
            "text/html": [
              "\n",
              "  <div id=\"df-9f7ded90-8241-40af-a1fd-ef71f8f8190e\">\n",
              "    <div class=\"colab-df-container\">\n",
              "      <div>\n",
              "<style scoped>\n",
              "    .dataframe tbody tr th:only-of-type {\n",
              "        vertical-align: middle;\n",
              "    }\n",
              "\n",
              "    .dataframe tbody tr th {\n",
              "        vertical-align: top;\n",
              "    }\n",
              "\n",
              "    .dataframe thead th {\n",
              "        text-align: right;\n",
              "    }\n",
              "</style>\n",
              "<table border=\"1\" class=\"dataframe\">\n",
              "  <thead>\n",
              "    <tr style=\"text-align: right;\">\n",
              "      <th></th>\n",
              "      <th>mean</th>\n",
              "      <th>mean_se</th>\n",
              "      <th>mean_ci_lower</th>\n",
              "      <th>mean_ci_upper</th>\n",
              "      <th>obs_ci_lower</th>\n",
              "      <th>obs_ci_upper</th>\n",
              "    </tr>\n",
              "  </thead>\n",
              "  <tbody>\n",
              "    <tr>\n",
              "      <th>273</th>\n",
              "      <td>34907.142189</td>\n",
              "      <td>572.022509</td>\n",
              "      <td>33781.149005</td>\n",
              "      <td>36033.135373</td>\n",
              "      <td>22321.525556</td>\n",
              "      <td>47492.758823</td>\n",
              "    </tr>\n",
              "    <tr>\n",
              "      <th>301</th>\n",
              "      <td>34976.386154</td>\n",
              "      <td>577.917019</td>\n",
              "      <td>33838.789968</td>\n",
              "      <td>36113.982341</td>\n",
              "      <td>22389.726134</td>\n",
              "      <td>47563.046175</td>\n",
              "    </tr>\n",
              "    <tr>\n",
              "      <th>134</th>\n",
              "      <td>33208.042738</td>\n",
              "      <td>485.326904</td>\n",
              "      <td>32252.704831</td>\n",
              "      <td>34163.380645</td>\n",
              "      <td>20636.544979</td>\n",
              "      <td>45779.540497</td>\n",
              "    </tr>\n",
              "    <tr>\n",
              "      <th>252</th>\n",
              "      <td>33657.115078</td>\n",
              "      <td>693.298743</td>\n",
              "      <td>32292.396649</td>\n",
              "      <td>35021.833506</td>\n",
              "      <td>21047.898536</td>\n",
              "      <td>46266.331619</td>\n",
              "    </tr>\n",
              "  </tbody>\n",
              "</table>\n",
              "</div>\n",
              "      <button class=\"colab-df-convert\" onclick=\"convertToInteractive('df-9f7ded90-8241-40af-a1fd-ef71f8f8190e')\"\n",
              "              title=\"Convert this dataframe to an interactive table.\"\n",
              "              style=\"display:none;\">\n",
              "        \n",
              "  <svg xmlns=\"http://www.w3.org/2000/svg\" height=\"24px\"viewBox=\"0 0 24 24\"\n",
              "       width=\"24px\">\n",
              "    <path d=\"M0 0h24v24H0V0z\" fill=\"none\"/>\n",
              "    <path d=\"M18.56 5.44l.94 2.06.94-2.06 2.06-.94-2.06-.94-.94-2.06-.94 2.06-2.06.94zm-11 1L8.5 8.5l.94-2.06 2.06-.94-2.06-.94L8.5 2.5l-.94 2.06-2.06.94zm10 10l.94 2.06.94-2.06 2.06-.94-2.06-.94-.94-2.06-.94 2.06-2.06.94z\"/><path d=\"M17.41 7.96l-1.37-1.37c-.4-.4-.92-.59-1.43-.59-.52 0-1.04.2-1.43.59L10.3 9.45l-7.72 7.72c-.78.78-.78 2.05 0 2.83L4 21.41c.39.39.9.59 1.41.59.51 0 1.02-.2 1.41-.59l7.78-7.78 2.81-2.81c.8-.78.8-2.07 0-2.86zM5.41 20L4 18.59l7.72-7.72 1.47 1.35L5.41 20z\"/>\n",
              "  </svg>\n",
              "      </button>\n",
              "      \n",
              "  <style>\n",
              "    .colab-df-container {\n",
              "      display:flex;\n",
              "      flex-wrap:wrap;\n",
              "      gap: 12px;\n",
              "    }\n",
              "\n",
              "    .colab-df-convert {\n",
              "      background-color: #E8F0FE;\n",
              "      border: none;\n",
              "      border-radius: 50%;\n",
              "      cursor: pointer;\n",
              "      display: none;\n",
              "      fill: #1967D2;\n",
              "      height: 32px;\n",
              "      padding: 0 0 0 0;\n",
              "      width: 32px;\n",
              "    }\n",
              "\n",
              "    .colab-df-convert:hover {\n",
              "      background-color: #E2EBFA;\n",
              "      box-shadow: 0px 1px 2px rgba(60, 64, 67, 0.3), 0px 1px 3px 1px rgba(60, 64, 67, 0.15);\n",
              "      fill: #174EA6;\n",
              "    }\n",
              "\n",
              "    [theme=dark] .colab-df-convert {\n",
              "      background-color: #3B4455;\n",
              "      fill: #D2E3FC;\n",
              "    }\n",
              "\n",
              "    [theme=dark] .colab-df-convert:hover {\n",
              "      background-color: #434B5C;\n",
              "      box-shadow: 0px 1px 3px 1px rgba(0, 0, 0, 0.15);\n",
              "      filter: drop-shadow(0px 1px 2px rgba(0, 0, 0, 0.3));\n",
              "      fill: #FFFFFF;\n",
              "    }\n",
              "  </style>\n",
              "\n",
              "      <script>\n",
              "        const buttonEl =\n",
              "          document.querySelector('#df-9f7ded90-8241-40af-a1fd-ef71f8f8190e button.colab-df-convert');\n",
              "        buttonEl.style.display =\n",
              "          google.colab.kernel.accessAllowed ? 'block' : 'none';\n",
              "\n",
              "        async function convertToInteractive(key) {\n",
              "          const element = document.querySelector('#df-9f7ded90-8241-40af-a1fd-ef71f8f8190e');\n",
              "          const dataTable =\n",
              "            await google.colab.kernel.invokeFunction('convertToInteractive',\n",
              "                                                     [key], {});\n",
              "          if (!dataTable) return;\n",
              "\n",
              "          const docLinkHtml = 'Like what you see? Visit the ' +\n",
              "            '<a target=\"_blank\" href=https://colab.research.google.com/notebooks/data_table.ipynb>data table notebook</a>'\n",
              "            + ' to learn more about interactive tables.';\n",
              "          element.innerHTML = '';\n",
              "          dataTable['output_type'] = 'display_data';\n",
              "          await google.colab.output.renderOutput(dataTable, element);\n",
              "          const docLink = document.createElement('div');\n",
              "          docLink.innerHTML = docLinkHtml;\n",
              "          element.appendChild(docLink);\n",
              "        }\n",
              "      </script>\n",
              "    </div>\n",
              "  </div>\n",
              "  "
            ]
          },
          "metadata": {},
          "execution_count": 25
        }
      ]
    },
    {
      "cell_type": "markdown",
      "source": [
        "Error de test del modelo"
      ],
      "metadata": {
        "id": "BGlDrpcan1lP"
      }
    },
    {
      "cell_type": "code",
      "source": [
        "X_test = sm.add_constant(X_test, prepend=True)\n",
        "predicciones = modelo.predict(exog = X_test)\n",
        "rmse = mean_squared_error(\n",
        "        y_true  = y_test,\n",
        "        y_pred  = predicciones,\n",
        "        squared = False\n",
        "       )\n",
        "print(\"\")\n",
        "print(f\"El error (rmse) de test es: {rmse}\")"
      ],
      "metadata": {
        "colab": {
          "base_uri": "https://localhost:8080/"
        },
        "id": "wNEtjJ2Xc-Yq",
        "outputId": "07c056f6-8fb3-441a-ddbd-aa0c0ff9aa1d"
      },
      "execution_count": null,
      "outputs": [
        {
          "output_type": "stream",
          "name": "stdout",
          "text": [
            "\n",
            "El error (rmse) de test es: 3206.0926357069575\n"
          ]
        }
      ]
    }
  ]
}